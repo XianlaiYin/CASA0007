{
  "cells": [
    {
      "cell_type": "markdown",
      "metadata": {},
      "source": [
        "<div style=\"float:left\">\n",
        "            <h1 style=\"width:450px\">CASA0007 Practical 5: Hypothesis Testing</h1>\n",
        "</div>\n",
        "<div style=\"float:right\"><img width=\"100\" src=\"https://github.com/jreades/i2p/raw/master/img/casa_logo.jpg\" /></div>"
      ]
    },
    {
      "cell_type": "markdown",
      "metadata": {},
      "source": [
        "Welcome!\n",
        "\n",
        "In this practical, we will apply the hypothesis testing techniques to the toddler dataset.\n",
        "\n",
        "- Mean comparison test;\n",
        "- KS distribution test;"
      ]
    },
    {
      "cell_type": "code",
      "execution_count": 2,
      "metadata": {
        "colab": {
          "base_uri": "https://localhost:8080/",
          "height": 72,
          "resources": {
            "http://localhost:8080/nbextensions/google.colab/files.js": {
              "data": "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",
              "headers": [
                [
                  "content-type",
                  "application/javascript"
                ]
              ],
              "ok": true,
              "status": 200,
              "status_text": ""
            }
          }
        },
        "collapsed": true,
        "id": "UWPn9c9ADlZW",
        "outputId": "ffab5ac5-a80e-422e-fd90-836fe15dfb59"
      },
      "outputs": [],
      "source": [
        "# import relevant packages\n",
        "\n",
        "import numpy as np\n",
        "import scipy.stats as sps\n",
        "import pandas as pd\n",
        "import matplotlib.pyplot as plt\n",
        "\n",
        "%matplotlib inline"
      ]
    },
    {
      "cell_type": "markdown",
      "metadata": {
        "id": "3GaKeu6zDlZX"
      },
      "source": [
        "### Background\n",
        "\n",
        "Local authority introduces scheme to address child malnutrition.\n",
        "\n",
        "Data: weight (in kg) of four-year olds.\n",
        "\n",
        "Sample 1: 100 pre-intervention\n",
        "\n",
        "Sample 2: 100 post-intervention\n",
        "\n",
        "(Note: The two samples are of different children)"
      ]
    },
    {
      "cell_type": "code",
      "execution_count": 3,
      "metadata": {
        "colab": {
          "base_uri": "https://localhost:8080/",
          "height": 204
        },
        "id": "ngi6hKy0DlZX",
        "outputId": "6b31700f-f622-499e-8511-78f401cc2a98"
      },
      "outputs": [
        {
          "data": {
            "text/html": [
              "<div>\n",
              "<style scoped>\n",
              "    .dataframe tbody tr th:only-of-type {\n",
              "        vertical-align: middle;\n",
              "    }\n",
              "\n",
              "    .dataframe tbody tr th {\n",
              "        vertical-align: top;\n",
              "    }\n",
              "\n",
              "    .dataframe thead th {\n",
              "        text-align: right;\n",
              "    }\n",
              "</style>\n",
              "<table border=\"1\" class=\"dataframe\">\n",
              "  <thead>\n",
              "    <tr style=\"text-align: right;\">\n",
              "      <th></th>\n",
              "      <th>sample_1</th>\n",
              "      <th>sample_2</th>\n",
              "    </tr>\n",
              "  </thead>\n",
              "  <tbody>\n",
              "    <tr>\n",
              "      <th>0</th>\n",
              "      <td>13.4</td>\n",
              "      <td>14.2</td>\n",
              "    </tr>\n",
              "    <tr>\n",
              "      <th>1</th>\n",
              "      <td>13.9</td>\n",
              "      <td>13.1</td>\n",
              "    </tr>\n",
              "    <tr>\n",
              "      <th>2</th>\n",
              "      <td>13.9</td>\n",
              "      <td>15.3</td>\n",
              "    </tr>\n",
              "    <tr>\n",
              "      <th>3</th>\n",
              "      <td>14.7</td>\n",
              "      <td>13.6</td>\n",
              "    </tr>\n",
              "    <tr>\n",
              "      <th>4</th>\n",
              "      <td>14.8</td>\n",
              "      <td>14.4</td>\n",
              "    </tr>\n",
              "  </tbody>\n",
              "</table>\n",
              "</div>"
            ],
            "text/plain": [
              "   sample_1  sample_2\n",
              "0      13.4      14.2\n",
              "1      13.9      13.1\n",
              "2      13.9      15.3\n",
              "3      14.7      13.6\n",
              "4      14.8      14.4"
            ]
          },
          "execution_count": 3,
          "metadata": {},
          "output_type": "execute_result"
        }
      ],
      "source": [
        "# Get the data on the weights of 4-year-olds:\n",
        "data = pd.read_csv('https://github.com/huanfachen/QM_2021/raw/main/data/toddler_data.csv')[['sample_1','sample_2']]\n",
        "\n",
        "# Look at the first few rows:\n",
        "data.head()"
      ]
    },
    {
      "cell_type": "code",
      "execution_count": 4,
      "metadata": {
        "colab": {
          "base_uri": "https://localhost:8080/",
          "height": 297
        },
        "id": "AVIF4OUKDlZX",
        "outputId": "ccc2dee3-0d1e-4c3a-873c-a7fa06f2020d"
      },
      "outputs": [
        {
          "data": {
            "text/html": [
              "<div>\n",
              "<style scoped>\n",
              "    .dataframe tbody tr th:only-of-type {\n",
              "        vertical-align: middle;\n",
              "    }\n",
              "\n",
              "    .dataframe tbody tr th {\n",
              "        vertical-align: top;\n",
              "    }\n",
              "\n",
              "    .dataframe thead th {\n",
              "        text-align: right;\n",
              "    }\n",
              "</style>\n",
              "<table border=\"1\" class=\"dataframe\">\n",
              "  <thead>\n",
              "    <tr style=\"text-align: right;\">\n",
              "      <th></th>\n",
              "      <th>sample_1</th>\n",
              "      <th>sample_2</th>\n",
              "    </tr>\n",
              "  </thead>\n",
              "  <tbody>\n",
              "    <tr>\n",
              "      <th>count</th>\n",
              "      <td>100.000000</td>\n",
              "      <td>100.000000</td>\n",
              "    </tr>\n",
              "    <tr>\n",
              "      <th>mean</th>\n",
              "      <td>13.952000</td>\n",
              "      <td>14.304000</td>\n",
              "    </tr>\n",
              "    <tr>\n",
              "      <th>std</th>\n",
              "      <td>1.214931</td>\n",
              "      <td>1.249882</td>\n",
              "    </tr>\n",
              "    <tr>\n",
              "      <th>min</th>\n",
              "      <td>11.300000</td>\n",
              "      <td>10.700000</td>\n",
              "    </tr>\n",
              "    <tr>\n",
              "      <th>25%</th>\n",
              "      <td>13.175000</td>\n",
              "      <td>13.550000</td>\n",
              "    </tr>\n",
              "    <tr>\n",
              "      <th>50%</th>\n",
              "      <td>14.000000</td>\n",
              "      <td>14.200000</td>\n",
              "    </tr>\n",
              "    <tr>\n",
              "      <th>75%</th>\n",
              "      <td>14.800000</td>\n",
              "      <td>15.000000</td>\n",
              "    </tr>\n",
              "    <tr>\n",
              "      <th>max</th>\n",
              "      <td>16.900000</td>\n",
              "      <td>18.000000</td>\n",
              "    </tr>\n",
              "  </tbody>\n",
              "</table>\n",
              "</div>"
            ],
            "text/plain": [
              "         sample_1    sample_2\n",
              "count  100.000000  100.000000\n",
              "mean    13.952000   14.304000\n",
              "std      1.214931    1.249882\n",
              "min     11.300000   10.700000\n",
              "25%     13.175000   13.550000\n",
              "50%     14.000000   14.200000\n",
              "75%     14.800000   15.000000\n",
              "max     16.900000   18.000000"
            ]
          },
          "execution_count": 4,
          "metadata": {},
          "output_type": "execute_result"
        }
      ],
      "source": [
        "# For convenience...\n",
        "\n",
        "# Store each sample separately:\n",
        "data1 = data['sample_1']\n",
        "data2 = data['sample_2']\n",
        "\n",
        "# Store some useful values\n",
        "\n",
        "min1 = data1.min()\n",
        "min2 = data2.min()\n",
        "\n",
        "max1 = data1.max()\n",
        "max2 = data2.max()\n",
        "\n",
        "mean1 = data1.mean()\n",
        "mean2 = data2.mean()\n",
        "\n",
        "std1 = data1.std()\n",
        "std2 = data2.std()\n",
        "\n",
        "n1 = len(data1)\n",
        "n2 = len(data2)\n",
        "\n",
        "# And print some summary information:\n",
        "\n",
        "data.describe()"
      ]
    },
    {
      "cell_type": "code",
      "execution_count": 5,
      "metadata": {
        "colab": {
          "base_uri": "https://localhost:8080/",
          "height": 538
        },
        "id": "i_hOxjnsDlZY",
        "outputId": "be59f4bd-8955-43fd-db7a-13dc19b9b2c8"
      },
      "outputs": [
        {
          "data": {
            "text/plain": [
              "<AxesSubplot:>"
            ]
          },
          "execution_count": 5,
          "metadata": {},
          "output_type": "execute_result"
        },
        {
          "data": {
            "image/png": "[encoded data removed]",
            "text/plain": [
              "<Figure size 432x288 with 1 Axes>"
            ]
          },
          "metadata": {
            "needs_background": "light"
          },
          "output_type": "display_data"
        },
        {
          "data": {
            "image/png": "[encoded data removed]",
            "text/plain": [
              "<Figure size 432x288 with 1 Axes>"
            ]
          },
          "metadata": {
            "needs_background": "light"
          },
          "output_type": "display_data"
        }
      ],
      "source": [
        "# Visualise the distribution of the data (as histograms)\n",
        "\n",
        "# Set common x-limits for the histograms:\n",
        "# (using int() is a trick to round to the integer below)\n",
        "hist_min = int(min(min1,min2)) - 1\n",
        "hist_max = int(max(max1,max2)) + 2\n",
        "x_range = [hist_min, hist_max]\n",
        "\n",
        "# Set common y-limits for the histograms:\n",
        "y_range = [0.0,0.4]\n",
        "\n",
        "# Choose an appropriate number of columns for the histogram:\n",
        "# (This choice will give us columns of width 1)\n",
        "n_cols = hist_max - hist_min\n",
        "\n",
        "# Now create the plots:\n",
        "# (The plt.figure(x) functions create new plots preventing...\n",
        "# ... both histograms from being drawn on the same axes.)\n",
        "\n",
        "plt.figure(1)\n",
        "data['sample_1'].hist(range=x_range, bins=n_cols, density=True)\n",
        "plt.ylim(y_range)\n",
        "\n",
        "plt.figure(2)\n",
        "plt.ylim(y_range)\n",
        "data['sample_2'].hist(range=x_range, bins=n_cols, density=True)\n"
      ]
    },
    {
      "cell_type": "code",
      "execution_count": 6,
      "metadata": {
        "collapsed": true,
        "id": "K2ROQG1qDlZY"
      },
      "outputs": [],
      "source": [
        "# The distributions look roughly normal\n",
        "# They do seem a little different, but could this be down to random chance?"
      ]
    },
    {
      "cell_type": "markdown",
      "metadata": {
        "id": "bnEP-SGrDlZY"
      },
      "source": [
        "### Test 1 - Mean Comparison Test"
      ]
    },
    {
      "cell_type": "markdown",
      "metadata": {
        "id": "sxzQ0mEfDlZZ"
      },
      "source": [
        "The two samples have different means, but let's test whether this could be down to random chance.\n",
        "\n",
        "Could they be drawn from populations with the same mean?\n",
        "\n",
        "(The sample sizes (100) are fairly large so the mean comparison test is valid.)"
      ]
    },
    {
      "cell_type": "markdown",
      "metadata": {
        "id": "3qWmU1Y8DlZZ"
      },
      "source": [
        "Step 1"
      ]
    },
    {
      "cell_type": "code",
      "execution_count": 7,
      "metadata": {
        "collapsed": true,
        "id": "r7h-C8NJDlZZ"
      },
      "outputs": [],
      "source": [
        "# H0: Mean of population 1 =  Mean of population 1\n",
        "# H1: Mean of population 1 <> Mean of population 1"
      ]
    },
    {
      "cell_type": "markdown",
      "metadata": {
        "id": "1K49e3lhDlZZ"
      },
      "source": [
        "Step 2"
      ]
    },
    {
      "cell_type": "code",
      "execution_count": 8,
      "metadata": {
        "collapsed": true,
        "id": "Q4VWJVe4DlZa"
      },
      "outputs": [],
      "source": [
        "# Set significance level:\n",
        "\n",
        "alpha = 0.05"
      ]
    },
    {
      "cell_type": "markdown",
      "metadata": {
        "id": "419R3wELDlZa"
      },
      "source": [
        "Step 3-4"
      ]
    },
    {
      "cell_type": "code",
      "execution_count": 9,
      "metadata": {
        "colab": {
          "base_uri": "https://localhost:8080/"
        },
        "id": "z65MOHXpDlZa",
        "outputId": "df059cd4-588f-4440-a8e7-b2e7b2cea572"
      },
      "outputs": [
        {
          "name": "stdout",
          "output_type": "stream",
          "text": [
            "std_ratio = 0.9720359813764003\n",
            "Can assume equal population standard deviations.\n"
          ]
        }
      ],
      "source": [
        "# There is a built-in scipy.stats function (ttest_ind) that does steps 3 and 4 for us.\n",
        "# We just need to know whether we can assume that the samples are drawn...\n",
        "# ... from populations with the same standard deviation or not.\n",
        "# (Provided neither standard deviation is double the other, this should be ok)\n",
        "\n",
        "std_ratio = std1/std2\n",
        "\n",
        "print(\"std_ratio =\", std_ratio)\n",
        "\n",
        "if std_ratio > 0.5 and std_ratio < 2:\n",
        "    print(\"Can assume equal population standard deviations.\")\n",
        "    equal_stds = True\n",
        "else:\n",
        "    print(\"Cannot assume equal population standard deviations.\")\n",
        "    equal_stds = False"
      ]
    },
    {
      "cell_type": "code",
      "execution_count": 10,
      "metadata": {
        "colab": {
          "base_uri": "https://localhost:8080/"
        },
        "id": "Oy9p9iJqDlZb",
        "outputId": "ce7496ba-bf80-49d9-d6b8-f460d0f8b8da"
      },
      "outputs": [
        {
          "name": "stdout",
          "output_type": "stream",
          "text": [
            "p-value = 0.04479005662769824\n"
          ]
        }
      ],
      "source": [
        "# Calculate the test statistic and the p-value:\n",
        "# There are two outputs from the function of sps.ttest_ind: the **test statistic** and the **p value**\n",
        "\n",
        "test_stat, p_value = sps.ttest_ind(data1, data2, equal_var = equal_stds)\n",
        "print(\"p-value =\", p_value)"
      ]
    },
    {
      "cell_type": "markdown",
      "metadata": {
        "id": "n6pZhgG9DlZb"
      },
      "source": [
        "Step 5"
      ]
    },
    {
      "cell_type": "code",
      "execution_count": 11,
      "metadata": {
        "colab": {
          "base_uri": "https://localhost:8080/"
        },
        "id": "JdKJ1WYgDlZb",
        "outputId": "45472f72-d11e-45f7-d062-7a9e229fb2d4",
        "scrolled": true
      },
      "outputs": [
        {
          "name": "stdout",
          "output_type": "stream",
          "text": [
            "p-value < significance threshold.\n",
            "Reject H0. Accept H1.\n",
            "Conclude that samples are drawn from populations with different means.\n"
          ]
        }
      ],
      "source": [
        "# Reach a conclusion:\n",
        "\n",
        "if p_value < alpha:\n",
        "    print(\"p-value < significance threshold.\")\n",
        "    print(\"Reject H0. Accept H1.\")\n",
        "    print(\"Conclude that samples are drawn from populations with different means.\")\n",
        "elif p_value >= alpha:\n",
        "    print(\"p-value >= significance threshold.\")\n",
        "    print(\"No significant evidence to reject H0.\")\n",
        "    print(\"Assume samples are drawn from populations with the same mean.\")"
      ]
    },
    {
      "cell_type": "markdown",
      "metadata": {
        "id": "3aQMdDn0DlZc"
      },
      "source": [
        "### Test 2 - KS Distribution Test"
      ]
    },
    {
      "cell_type": "markdown",
      "metadata": {
        "id": "X7Qq9Nr3DlZc"
      },
      "source": [
        "What about the shape of the distributions?\n",
        "\n",
        "Could the visible difference in the distributions (see the histograms) be down to random chance?\n",
        "\n",
        "(The data is continuous, so the KS test is valid.)"
      ]
    },
    {
      "cell_type": "markdown",
      "metadata": {
        "id": "O5No4xckDlZc"
      },
      "source": [
        "Step 1"
      ]
    },
    {
      "cell_type": "code",
      "execution_count": 12,
      "metadata": {
        "collapsed": true,
        "id": "njFp65ODDlZc"
      },
      "outputs": [],
      "source": [
        "# H0: Sample 1 and Sample 2 are drawn from identical distributions.\n",
        "# H1: Sample 1 and Sample 2 are not drawn from identical distributions."
      ]
    },
    {
      "cell_type": "markdown",
      "metadata": {
        "id": "V40a9Zq1DlZd"
      },
      "source": [
        "Step 2"
      ]
    },
    {
      "cell_type": "code",
      "execution_count": 13,
      "metadata": {
        "collapsed": true,
        "id": "U1wetuTLDlZd"
      },
      "outputs": [],
      "source": [
        "# Set significance level:\n",
        "\n",
        "alpha = 0.05"
      ]
    },
    {
      "cell_type": "markdown",
      "metadata": {
        "id": "SZUS9pQmDlZd"
      },
      "source": [
        "Step 3-4"
      ]
    },
    {
      "cell_type": "code",
      "execution_count": 14,
      "metadata": {
        "colab": {
          "base_uri": "https://localhost:8080/"
        },
        "id": "Apq6RBn9DlZd",
        "outputId": "65222c50-cd59-4c93-c393-33e68c2ef7ca"
      },
      "outputs": [
        {
          "name": "stdout",
          "output_type": "stream",
          "text": [
            "KS stat = 0.13\n",
            "p-value = 0.36818778606286096\n"
          ]
        }
      ],
      "source": [
        "# There is a built-in scipy.stats function (ks_2samp) that does steps 3 and 4 for us:\n",
        "\n",
        "KS_stat, p_value = sps.ks_2samp(data1,data2)\n",
        "\n",
        "# Compare with the KS stat we calculated earlier:\n",
        "\n",
        "print(\"KS stat =\", KS_stat)\n",
        "print(\"p-value =\", p_value)"
      ]
    },
    {
      "cell_type": "markdown",
      "metadata": {
        "id": "LRBHBdD0DlZe"
      },
      "source": [
        "Step 5"
      ]
    },
    {
      "cell_type": "code",
      "execution_count": 15,
      "metadata": {
        "colab": {
          "base_uri": "https://localhost:8080/"
        },
        "id": "GYBng5qQDlZe",
        "outputId": "2b0c9142-79d7-4f5c-e144-70ccb247f3a1"
      },
      "outputs": [
        {
          "name": "stdout",
          "output_type": "stream",
          "text": [
            "p-value >= significance threshold.\n",
            "No significant evidence to reject H0.\n",
            "Assume samples are drawn from populations with the same distribution.\n"
          ]
        }
      ],
      "source": [
        "# Reach a conclusion:\n",
        "\n",
        "if p_value < alpha:\n",
        "    print(\"p-value < significance threshold.\")\n",
        "    print(\"Reject H0. Accept H1.\")\n",
        "    print(\"Conclude that samples are drawn from populations with different distributions.\")\n",
        "elif p_value >= alpha:\n",
        "    print(\"p-value >= significance threshold.\")\n",
        "    print(\"No significant evidence to reject H0.\")\n",
        "    print(\"Assume samples are drawn from populations with the same distribution.\")"
      ]
    },
    {
      "cell_type": "markdown",
      "metadata": {},
      "source": [
        "## Conclusions"
      ]
    },
    {
      "cell_type": "markdown",
      "metadata": {},
      "source": [
        "We have applied the mean comparison test and KS test to the toddler data. \n",
        "\n",
        "Now, can you try these techniques to other datasets and describe your findings in the language of hypothesis testing?"
      ]
    },
    {
      "cell_type": "markdown",
      "metadata": {},
      "source": [
        "## Credits\n",
        "### Contributors:\n",
        "The following individuals have contributed to these teaching materials: Thomas Evans, Hannah Fry, [Huanfa Chen](huanfa.chen@ucl.ac.uk)\n",
        "\n",
        "### License\n",
        "These teaching materials are licensed under a mix of The MIT License and the Creative Commons Attribution-NonCommercial-ShareAlike 4.0 license.\n",
        "\n",
        "### Acknowledgements\n",
        "NA\n",
        "\n",
        "### Dependencies\n",
        "This notebook depends on the following libraries: pandas, matplotlib, numpy, scipy"
      ]
    }
  ],
  "metadata": {
    "colab": {
      "collapsed_sections": [],
      "name": "hypothesis_test_examples.ipynb",
      "provenance": []
    },
    "kernelspec": {
      "display_name": "Python 3.9.6 ('sds2021')",
      "language": "python",
      "name": "python3"
    },
    "language_info": {
      "codemirror_mode": {
        "name": "ipython",
        "version": 3
      },
      "file_extension": ".py",
      "mimetype": "text/x-python",
      "name": "python",
      "nbconvert_exporter": "python",
      "pygments_lexer": "ipython3",
      "version": "3.9.6"
    },
    "vscode": {
      "interpreter": {
        "hash": "8cdf1ecd798239b44ba2dcf459aee7a8cc838afe2ace5ebe3c933e6e9b82b8cd"
      }
    }
  },
  "nbformat": 4,
  "nbformat_minor": 0
}
