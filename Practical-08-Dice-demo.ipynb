{
 "cells": [
  {
   "cell_type": "markdown",
   "metadata": {},
   "source": [
    "<div style=\"float:left\">\n",
    "            <h1 style=\"width:450px\">CASA0007 Practical 8: Modelling the real world - Dice demo</h1>\n",
    "</div>\n",
    "<div style=\"float:right\"><img width=\"100\" src=\"https://github.com/jreades/i2p/raw/master/img/casa_logo.jpg\" /></div>"
   ]
  },
  {
   "cell_type": "markdown",
   "metadata": {},
   "source": [
    "Welcome to Practical 8. There are three notebooks in this practical. \n",
    "\n",
    "This notebook is a demonstration of rolling a dice. It will help you understand how the mean winnings change with the number of rolling the dice.\n",
    "\n",
    "In this game, if the dice returns between 1 and 5, then you get the score. If the dice returns 6, then you get -6."
   ]
  },
  {
   "cell_type": "code",
   "execution_count": 3,
   "metadata": {},
   "outputs": [],
   "source": [
    "# Import packages\n",
    "import matplotlib.pyplot as plt\n",
    "import random as rn\n",
    "import time as tm\n",
    "\n",
    "# (The time module will be used to control the speed of the program\n",
    "# using the function tm.time() to keep track of how much time has passed\n",
    "# and tm.sleep(number_of_seconds) to pause execution for a set duration.)"
   ]
  },
  {
   "cell_type": "markdown",
   "metadata": {},
   "source": [
    "The expected score of this dice is 1.5. Why?\n",
    "\n",
    "1/6*(1+2+3+4+5-6) = 1.5"
   ]
  },
  {
   "cell_type": "code",
   "execution_count": null,
   "metadata": {},
   "outputs": [],
   "source": [
    "# The simulation results will be compared with the expected score at the end\n",
    "expected_score = 1.5"
   ]
  },
  {
   "cell_type": "markdown",
   "metadata": {},
   "source": [
    "The parameters of this experiment is as follows. You can test with different settings.\n",
    "\n",
    "Originally, this code was designed as an interactive plot. However, when we run in the docker and Python notebook, it is not interactive. The code returns a static plot.\n",
    "\n",
    "So, we can ignore the parameter of `is_animation` in the code.\n",
    "\n",
    "Note that each time you run the code, the consequent plot is different due to the randomness of dice rolling."
   ]
  },
  {
   "cell_type": "code",
   "execution_count": 5,
   "metadata": {},
   "outputs": [
    {
     "data": {
      "text/plain": [
       "<Figure size 864x432 with 0 Axes>"
      ]
     },
     "metadata": {},
     "output_type": "display_data"
    },
    {
     "data": {
      "image/png": "[encoded data removed]",
      "text/plain": [
       "<Figure size 432x288 with 1 Axes>"
      ]
     },
     "metadata": {
      "needs_background": "light"
     },
     "output_type": "display_data"
    }
   ],
   "source": [
    "# Set the number of repetitions of the game\n",
    "number_of_plays = 10\n",
    "\n",
    "# Turn animation on/off\n",
    "is_animation = False\n",
    "\n",
    "# These capitalised variables will all serve to control the duration of the animation.\n",
    "TOTAL_SIM_TIME = 10\n",
    "INITIAL_WAIT   = 1\n",
    "COMMON_RATIO   = 1 - INITIAL_WAIT/TOTAL_SIM_TIME\n",
    "UPDATE_INT     = 1\n",
    "FINAL_WAIT     = 0\n",
    "MIN_INT        = 0.01\n",
    "START_TIME     = tm.time()\n",
    "CURRENT_TIME   = START_TIME\n",
    "\n",
    "# Interactive plotting:\n",
    "plt.ion()\n",
    "\n",
    "# Create the figure on which to plot\n",
    "fig1 = plt.figure(num=1,figsize=(12,6))\n",
    "\n",
    "# Show the figure (empty at the moment)\n",
    "# The .canvas.draw() and .canvas.flush_events() allow for live updating\n",
    "fig1.clear()\n",
    "plt.show()\n",
    "plt.xlim((1,number_of_plays))\n",
    "plt.ylim((-6,6))\n",
    "plt.ylabel('Mean Winnings (£)', fontsize=20)\n",
    "plt.xlabel('Round',fontsize=20)\n",
    "fig1.canvas.draw()\n",
    "fig1.canvas.flush_events()\n",
    "\n",
    "\n",
    "# Here is a function that takes a dice roll and returns your score:\n",
    "def game_result(dice_roll):\n",
    "    \n",
    "    if dice_roll < 6:\n",
    "        return dice_roll\n",
    "    else:\n",
    "        return -6\n",
    "\n",
    "# Create some variables (and a list) to update later:\n",
    "rolling_sum = 0.0\n",
    "rolling_av  = 0.0\n",
    "rolling_averages = [0]\n",
    "plot_start = 0\n",
    "\n",
    "# Play the game many times\n",
    "for i in range(number_of_plays):\n",
    "    \n",
    "    # Roll the dice:\n",
    "    new_roll = rn.randint(1,6)\n",
    "    \n",
    "    # Update the variables\n",
    "    rolling_sum += game_result(new_roll)\n",
    "    rolling_av = rolling_sum/(i+1)\n",
    "    rolling_averages += [rolling_av]\n",
    "    \n",
    "    # We need to check the time here to control how fast the graph is being plotted:\n",
    "    NEW_TIME = tm.time()\n",
    "    \n",
    "    # This bit of code displays the updated plot.\n",
    "    # However, there are some conditions to make sure it doesn't try to update too frequently to prevent the plotting from slowing down.\n",
    "    if is_animation == True and (i == 0 or NEW_TIME-CURRENT_TIME > MIN_INT):\n",
    "        \n",
    "        plt.plot(range(plot_start,i+2),rolling_averages[plot_start-i-2:],'r-')\n",
    "        fig1.canvas.draw()\n",
    "        fig1.canvas.flush_events()\n",
    "        plot_start = i+1\n",
    "        \n",
    "        CURRENT_TIME= tm.time()\n",
    "        \n",
    "    # How long to wait between iterations...\n",
    "    # This is set up to accelerate as more of the graph is drawn:\n",
    "    if is_animation == True:\n",
    "        WAIT_TIME = INITIAL_WAIT*COMMON_RATIO**i\n",
    "        tm.sleep(WAIT_TIME)\n",
    "\n",
    "# A final update, to make sure the complete plot has been displayed:\n",
    "fig1.clear()\n",
    "plt.xlim((1,number_of_plays))\n",
    "plt.ylim((-6,6))\n",
    "plt.plot(range(number_of_plays+1),rolling_averages,'r-')\n",
    "fig1.canvas.draw()\n",
    "\n",
    "# Wait a little:\n",
    "tm.sleep(FINAL_WAIT)\n",
    "\n",
    "# Then plot the predicted expected score as a dotted line:\n",
    "plt.plot([1,number_of_plays],[expected_score]*2,'b--')\n",
    "fig1.canvas.draw()"
   ]
  },
  {
   "cell_type": "markdown",
   "metadata": {},
   "source": [
    "## Conclusions"
   ]
  },
  {
   "cell_type": "markdown",
   "metadata": {},
   "source": [
    "We have demonstrated the dice rolling in a simulation environment. \n",
    "\n",
    "Now you can play with the code after changing the settings or the game rules."
   ]
  },
  {
   "cell_type": "markdown",
   "metadata": {},
   "source": [
    "## Credits\n",
    "### Contributors:\n",
    "The following individuals have contributed to these teaching materials: Thomas Evans, Hannah Fry, [Huanfa Chen](huanfa.chen@ucl.ac.uk)\n",
    "\n",
    "### License\n",
    "These teaching materials are licensed under a mix of The MIT License and the Creative Commons Attribution-NonCommercial-ShareAlike 4.0 license.\n",
    "\n",
    "### Acknowledgements\n",
    "NA\n",
    "\n",
    "### Dependencies\n",
    "This notebook depends on the following libraries: matplotlib, random, time"
   ]
  }
 ],
 "metadata": {
  "kernelspec": {
   "display_name": "venv",
   "language": "python",
   "name": "python3"
  },
  "language_info": {
   "codemirror_mode": {
    "name": "ipython",
    "version": 3
   },
   "file_extension": ".py",
   "mimetype": "text/x-python",
   "name": "python",
   "nbconvert_exporter": "python",
   "pygments_lexer": "ipython3",
   "version": "3.10.7 (tags/v3.10.7:6cc6b13, Sep  5 2022, 14:08:36) [MSC v.1933 64 bit (AMD64)]"
  },
  "vscode": {
   "interpreter": {
    "hash": "c8a96f6455f25b8e674aee250f8de022a29a4c4fac5e8d0c9eff6491d762c613"
   }
  }
 },
 "nbformat": 4,
 "nbformat_minor": 4
}
