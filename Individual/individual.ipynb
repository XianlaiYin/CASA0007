{
 "cells": [
  {
   "cell_type": "code",
   "execution_count": 21,
   "metadata": {},
   "outputs": [],
   "source": [
    "import numpy as np\n",
    "import pandas as pd\n",
    "import statsmodels\n",
    "import statsmodels.api as sm\n",
    "import statsmodels.formula.api as smf \n",
    "from statsmodels.stats.outliers_influence import variance_inflation_factor \n",
    "from statsmodels.tools.tools import add_constant\n",
    "from sklearn import preprocessing\n",
    "import statsmodels\n",
    "import statsmodels.api as sm\n",
    "import statsmodels.formula.api as smf \n",
    "from statsmodels.stats.outliers_influence import variance_inflation_factor \n",
    "from statsmodels.tools.tools import add_constant\n",
    "import matplotlib as mpl\n",
    "from matplotlib import pyplot as plt\n",
    "from matplotlib import colors\n",
    "import seaborn as sn\n",
    "from scipy.stats import pearsonr"
   ]
  },
  {
   "cell_type": "code",
   "execution_count": 22,
   "metadata": {},
   "outputs": [],
   "source": [
    "POP = pd.read_csv('https://raw.githubusercontent.com/XianlaiYin/Data/main/CASA0007/data_clean/POP.csv')\n",
    "GDR = pd.read_csv('https://raw.githubusercontent.com/XianlaiYin/Data/main/CASA0007/data_clean/GDR.csv')\n",
    "URB = pd.read_csv('https://raw.githubusercontent.com/XianlaiYin/Data/main/CASA0007/data_clean/URB.csv')\n",
    "EDU = pd.read_csv('https://raw.githubusercontent.com/XianlaiYin/Data/main/CASA0007/data_clean/EDU.csv')\n",
    "FAM = pd.read_csv('https://raw.githubusercontent.com/XianlaiYin/Data/main/CASA0007/data_clean/FAM.csv')\n",
    "GEN = pd.read_csv('https://raw.githubusercontent.com/XianlaiYin/Data/main/CASA0007/data_clean/GEN.csv')\n",
    "GDP = pd.read_csv('https://raw.githubusercontent.com/XianlaiYin/Data/main/CASA0007/data_clean/GDP.csv')\n",
    "RES = pd.read_csv('https://raw.githubusercontent.com/XianlaiYin/Data/main/CASA0007/data_clean/RES.csv')\n",
    "PRI = pd.read_csv('https://raw.githubusercontent.com/XianlaiYin/Data/main/CASA0007/data_clean/PRI.csv')\n",
    "SAL = pd.read_csv('https://raw.githubusercontent.com/XianlaiYin/Data/main/CASA0007/data_clean/SAL.csv')\n",
    "STO = pd.read_csv('https://raw.githubusercontent.com/XianlaiYin/Data/main/CASA0007/data_clean/STO.csv')\n",
    "URBC = pd.read_csv('https://raw.githubusercontent.com/XianlaiYin/Data/main/CASA0007/data_clean/URBC.csv')"
   ]
  },
  {
   "cell_type": "code",
   "execution_count": 23,
   "metadata": {},
   "outputs": [],
   "source": [
    "def min_max_scaler(x):\n",
    "  return ((x-min(x))/(max(x)-min(x)))*100\n",
    "\n",
    "def extract(i):\n",
    "  POPi = POP[i]\n",
    "  GDRi = GDR[i]\n",
    "  URBi = URB[i]\n",
    "  EDUi = EDU[i]\n",
    "  FAMi = FAM[i]\n",
    "  GENi = GEN[i]\n",
    "  STOi = STO[i]\n",
    "  GDPi = GDP[i]\n",
    "  RESi = RES[i]\n",
    "  PRIi = PRI[i]\n",
    "  SALi = SAL[i]\n",
    "  URBCi = URBC[i]\n",
    "\n",
    "  POPii = min_max_scaler(POPi)  \n",
    "  GDRii = min_max_scaler(GDRi)  \n",
    "  URBii = min_max_scaler(URBi)  \n",
    "  EDUii = min_max_scaler(EDUi)  \n",
    "  FAMii = min_max_scaler(FAMi)  \n",
    "  GENii = min_max_scaler(GENi)  \n",
    "  STOii = min_max_scaler(STOi)  \n",
    "  GDPii = min_max_scaler(GDPi)  \n",
    "  RESii = min_max_scaler(RESi)  \n",
    "  PRIii = min_max_scaler(PRIi) \n",
    "  SALii = min_max_scaler(SALi)  \n",
    "  URBCii = min_max_scaler(URBCi)\n",
    "\n",
    "  SETi1 = pd.DataFrame({'POP':POPi, 'URB':URBi, 'STO':STOi})\n",
    "  SETi2 = pd.DataFrame({'GDR':GDRi, 'EDU':EDUi, 'FAM':FAMi, 'PRI':STOi, 'RES':RESi})\n",
    "  \n",
    "  return SETi1, SETi2\n",
    "\n",
    "province = ['Shanghai','Jiangxi']\n",
    "\n",
    "for i in province:\n",
    "  SET = extract(i)\n",
    "  SET1 = SET[0]\n",
    "  SET2 = SET[1]"
   ]
  },
  {
   "cell_type": "code",
   "execution_count": 48,
   "metadata": {},
   "outputs": [],
   "source": [
    "POP = pd.read_csv('https://raw.githubusercontent.com/XianlaiYin/Data/main/CASA0007/national/1990.csv', index_col=0)\n",
    "HOU = pd.read_csv('https://raw.githubusercontent.com/XianlaiYin/Data/main/CASA0007/national/2000.csv', index_col=0)\n",
    "\n",
    "HOU['UR'] = HOU['UP'] / HOU['TP']\n",
    "HOU['ASARH'] = HOU['SARH'] / HOU['TP']\n",
    "HOU['GEN'] = HOU['MP'] / HOU['FP']"
   ]
  },
  {
   "cell_type": "code",
   "execution_count": 49,
   "metadata": {},
   "outputs": [
    {
     "name": "stdout",
     "output_type": "stream",
     "text": [
      "Dropping: DPI\n"
     ]
    },
    {
     "name": "stderr",
     "output_type": "stream",
     "text": [
      "c:\\Users\\xianl\\AppData\\Local\\ESRI\\conda\\envs\\arcpy\\lib\\site-packages\\statsmodels\\tsa\\tsatools.py:142: FutureWarning: In a future version of pandas all arguments of concat except for the argument 'objs' will be keyword-only\n",
      "  x = pd.concat(x[::order], 1)\n"
     ]
    }
   ],
   "source": [
    "#Def VIF\n",
    "def drop_column_using_vif_(df, thresh=5):\n",
    "    while True:\n",
    "        df_with_const = add_constant(df)\n",
    "        vif_df = pd.Series([variance_inflation_factor(df_with_const.values, i) \n",
    "               for i in range(df_with_const.shape[1])], name= \"VIF\",\n",
    "              index=df_with_const.columns).to_frame()\n",
    "        vif_df = vif_df.drop('const')\n",
    "        if vif_df.VIF.max() > thresh:\n",
    "            index_to_drop = vif_df.index[vif_df.VIF == vif_df.VIF.max()].tolist()[0]\n",
    "            print('Dropping: {}'.format(index_to_drop))\n",
    "            df = df.drop(columns = index_to_drop)\n",
    "        else:\n",
    "            break\n",
    "    return df\n",
    "\n",
    "#VIF\n",
    "willing = HOU[['DPI', 'GDR']]\n",
    "WILLING_VIF = drop_column_using_vif_(willing)"
   ]
  },
  {
   "cell_type": "code",
   "execution_count": 37,
   "metadata": {},
   "outputs": [
    {
     "name": "stdout",
     "output_type": "stream",
     "text": [
      "Dropping: UP\n",
      "Dropping: A1564\n"
     ]
    },
    {
     "name": "stderr",
     "output_type": "stream",
     "text": [
      "c:\\Users\\xianl\\AppData\\Local\\ESRI\\conda\\envs\\arcpy\\lib\\site-packages\\statsmodels\\tsa\\tsatools.py:142: FutureWarning: In a future version of pandas all arguments of concat except for the argument 'objs' will be keyword-only\n",
      "  x = pd.concat(x[::order], 1)\n"
     ]
    }
   ],
   "source": [
    "number = HOU[['LP','UP']]\n",
    "NUMBER_VIF = drop_column_using_vif_(number)"
   ]
  },
  {
   "cell_type": "code",
   "execution_count": 38,
   "metadata": {},
   "outputs": [
    {
     "name": "stderr",
     "output_type": "stream",
     "text": [
      "c:\\Users\\xianl\\AppData\\Local\\ESRI\\conda\\envs\\arcpy\\lib\\site-packages\\statsmodels\\tsa\\tsatools.py:142: FutureWarning: In a future version of pandas all arguments of concat except for the argument 'objs' will be keyword-only\n",
      "  x = pd.concat(x[::order], 1)\n"
     ]
    },
    {
     "data": {
      "text/html": [
       "<table class=\"simpletable\">\n",
       "<caption>OLS Regression Results</caption>\n",
       "<tr>\n",
       "  <th>Dep. Variable:</th>          <td>TRBA</td>       <th>  R-squared:         </th> <td>   0.993</td>\n",
       "</tr>\n",
       "<tr>\n",
       "  <th>Model:</th>                   <td>OLS</td>       <th>  Adj. R-squared:    </th> <td>   0.993</td>\n",
       "</tr>\n",
       "<tr>\n",
       "  <th>Method:</th>             <td>Least Squares</td>  <th>  F-statistic:       </th> <td>   1430.</td>\n",
       "</tr>\n",
       "<tr>\n",
       "  <th>Date:</th>             <td>Fri, 13 Jan 2023</td> <th>  Prob (F-statistic):</th> <td>1.93e-21</td>\n",
       "</tr>\n",
       "<tr>\n",
       "  <th>Time:</th>                 <td>12:45:16</td>     <th>  Log-Likelihood:    </th> <td>  37.273</td>\n",
       "</tr>\n",
       "<tr>\n",
       "  <th>No. Observations:</th>      <td>    22</td>      <th>  AIC:               </th> <td>  -68.55</td>\n",
       "</tr>\n",
       "<tr>\n",
       "  <th>Df Residuals:</th>          <td>    19</td>      <th>  BIC:               </th> <td>  -65.27</td>\n",
       "</tr>\n",
       "<tr>\n",
       "  <th>Df Model:</th>              <td>     2</td>      <th>                     </th>     <td> </td>   \n",
       "</tr>\n",
       "<tr>\n",
       "  <th>Covariance Type:</th>      <td>nonrobust</td>    <th>                     </th>     <td> </td>   \n",
       "</tr>\n",
       "</table>\n",
       "<table class=\"simpletable\">\n",
       "<tr>\n",
       "    <td></td>       <th>coef</th>     <th>std err</th>      <th>t</th>      <th>P>|t|</th>  <th>[0.025</th>    <th>0.975]</th>  \n",
       "</tr>\n",
       "<tr>\n",
       "  <th>const</th> <td>   14.0796</td> <td>    9.548</td> <td>    1.475</td> <td> 0.157</td> <td>   -5.904</td> <td>   34.064</td>\n",
       "</tr>\n",
       "<tr>\n",
       "  <th>LP</th>    <td>   -2.8495</td> <td>    0.944</td> <td>   -3.018</td> <td> 0.007</td> <td>   -4.826</td> <td>   -0.873</td>\n",
       "</tr>\n",
       "<tr>\n",
       "  <th>UP</th>    <td>    2.8606</td> <td>    0.110</td> <td>   26.094</td> <td> 0.000</td> <td>    2.631</td> <td>    3.090</td>\n",
       "</tr>\n",
       "</table>\n",
       "<table class=\"simpletable\">\n",
       "<tr>\n",
       "  <th>Omnibus:</th>       <td>11.300</td> <th>  Durbin-Watson:     </th> <td>   0.425</td>\n",
       "</tr>\n",
       "<tr>\n",
       "  <th>Prob(Omnibus):</th> <td> 0.004</td> <th>  Jarque-Bera (JB):  </th> <td>  10.142</td>\n",
       "</tr>\n",
       "<tr>\n",
       "  <th>Skew:</th>          <td> 1.132</td> <th>  Prob(JB):          </th> <td> 0.00628</td>\n",
       "</tr>\n",
       "<tr>\n",
       "  <th>Kurtosis:</th>      <td> 5.436</td> <th>  Cond. No.          </th> <td>1.49e+04</td>\n",
       "</tr>\n",
       "</table><br/><br/>Notes:<br/>[1] Standard Errors assume that the covariance matrix of the errors is correctly specified.<br/>[2] The condition number is large, 1.49e+04. This might indicate that there are<br/>strong multicollinearity or other numerical problems."
      ],
      "text/plain": [
       "<class 'statsmodels.iolib.summary.Summary'>\n",
       "\"\"\"\n",
       "                            OLS Regression Results                            \n",
       "==============================================================================\n",
       "Dep. Variable:                   TRBA   R-squared:                       0.993\n",
       "Model:                            OLS   Adj. R-squared:                  0.993\n",
       "Method:                 Least Squares   F-statistic:                     1430.\n",
       "Date:                Fri, 13 Jan 2023   Prob (F-statistic):           1.93e-21\n",
       "Time:                        12:45:16   Log-Likelihood:                 37.273\n",
       "No. Observations:                  22   AIC:                            -68.55\n",
       "Df Residuals:                      19   BIC:                            -65.27\n",
       "Df Model:                           2                                         \n",
       "Covariance Type:            nonrobust                                         \n",
       "==============================================================================\n",
       "                 coef    std err          t      P>|t|      [0.025      0.975]\n",
       "------------------------------------------------------------------------------\n",
       "const         14.0796      9.548      1.475      0.157      -5.904      34.064\n",
       "LP            -2.8495      0.944     -3.018      0.007      -4.826      -0.873\n",
       "UP             2.8606      0.110     26.094      0.000       2.631       3.090\n",
       "==============================================================================\n",
       "Omnibus:                       11.300   Durbin-Watson:                   0.425\n",
       "Prob(Omnibus):                  0.004   Jarque-Bera (JB):               10.142\n",
       "Skew:                           1.132   Prob(JB):                      0.00628\n",
       "Kurtosis:                       5.436   Cond. No.                     1.49e+04\n",
       "==============================================================================\n",
       "\n",
       "Notes:\n",
       "[1] Standard Errors assume that the covariance matrix of the errors is correctly specified.\n",
       "[2] The condition number is large, 1.49e+04. This might indicate that there are\n",
       "strong multicollinearity or other numerical problems.\n",
       "\"\"\""
      ]
     },
     "execution_count": 38,
     "metadata": {},
     "output_type": "execute_result"
    }
   ],
   "source": [
    "OLS_y = HOU['TRBA'].apply(np.log)\n",
    "OLS_x = HOU[['LP', 'UP']].apply(np.log)\n",
    "OLSi = sm.OLS(endog = OLS_y, exog = sm.add_constant(OLS_x)).fit()\n",
    "OLSi.summary()"
   ]
  },
  {
   "cell_type": "code",
   "execution_count": 50,
   "metadata": {},
   "outputs": [
    {
     "name": "stderr",
     "output_type": "stream",
     "text": [
      "c:\\Users\\xianl\\AppData\\Local\\ESRI\\conda\\envs\\arcpy\\lib\\site-packages\\statsmodels\\tsa\\tsatools.py:142: FutureWarning: In a future version of pandas all arguments of concat except for the argument 'objs' will be keyword-only\n",
      "  x = pd.concat(x[::order], 1)\n"
     ]
    },
    {
     "data": {
      "text/html": [
       "<table class=\"simpletable\">\n",
       "<caption>OLS Regression Results</caption>\n",
       "<tr>\n",
       "  <th>Dep. Variable:</th>          <td>ASARH</td>      <th>  R-squared:         </th> <td>   0.977</td>\n",
       "</tr>\n",
       "<tr>\n",
       "  <th>Model:</th>                   <td>OLS</td>       <th>  Adj. R-squared:    </th> <td>   0.973</td>\n",
       "</tr>\n",
       "<tr>\n",
       "  <th>Method:</th>             <td>Least Squares</td>  <th>  F-statistic:       </th> <td>   253.2</td>\n",
       "</tr>\n",
       "<tr>\n",
       "  <th>Date:</th>             <td>Fri, 13 Jan 2023</td> <th>  Prob (F-statistic):</th> <td>6.67e-15</td>\n",
       "</tr>\n",
       "<tr>\n",
       "  <th>Time:</th>                 <td>12:49:45</td>     <th>  Log-Likelihood:    </th> <td>  34.885</td>\n",
       "</tr>\n",
       "<tr>\n",
       "  <th>No. Observations:</th>      <td>    22</td>      <th>  AIC:               </th> <td>  -61.77</td>\n",
       "</tr>\n",
       "<tr>\n",
       "  <th>Df Residuals:</th>          <td>    18</td>      <th>  BIC:               </th> <td>  -57.41</td>\n",
       "</tr>\n",
       "<tr>\n",
       "  <th>Df Model:</th>              <td>     3</td>      <th>                     </th>     <td> </td>   \n",
       "</tr>\n",
       "<tr>\n",
       "  <th>Covariance Type:</th>      <td>nonrobust</td>    <th>                     </th>     <td> </td>   \n",
       "</tr>\n",
       "</table>\n",
       "<table class=\"simpletable\">\n",
       "<tr>\n",
       "    <td></td>       <th>coef</th>     <th>std err</th>      <th>t</th>      <th>P>|t|</th>  <th>[0.025</th>    <th>0.975]</th>  \n",
       "</tr>\n",
       "<tr>\n",
       "  <th>const</th> <td>   -6.5658</td> <td>    5.724</td> <td>   -1.147</td> <td> 0.266</td> <td>  -18.592</td> <td>    5.461</td>\n",
       "</tr>\n",
       "<tr>\n",
       "  <th>GDR</th>   <td>   -0.0276</td> <td>    0.005</td> <td>   -5.683</td> <td> 0.000</td> <td>   -0.038</td> <td>   -0.017</td>\n",
       "</tr>\n",
       "<tr>\n",
       "  <th>DPI</th>   <td> 3.781e-05</td> <td>  3.7e-06</td> <td>   10.211</td> <td> 0.000</td> <td>    3e-05</td> <td> 4.56e-05</td>\n",
       "</tr>\n",
       "<tr>\n",
       "  <th>GEN</th>   <td>    7.2997</td> <td>    5.494</td> <td>    1.329</td> <td> 0.201</td> <td>   -4.243</td> <td>   18.843</td>\n",
       "</tr>\n",
       "</table>\n",
       "<table class=\"simpletable\">\n",
       "<tr>\n",
       "  <th>Omnibus:</th>       <td> 1.256</td> <th>  Durbin-Watson:     </th> <td>   1.960</td>\n",
       "</tr>\n",
       "<tr>\n",
       "  <th>Prob(Omnibus):</th> <td> 0.534</td> <th>  Jarque-Bera (JB):  </th> <td>   1.116</td>\n",
       "</tr>\n",
       "<tr>\n",
       "  <th>Skew:</th>          <td>-0.487</td> <th>  Prob(JB):          </th> <td>   0.572</td>\n",
       "</tr>\n",
       "<tr>\n",
       "  <th>Kurtosis:</th>      <td> 2.483</td> <th>  Cond. No.          </th> <td>1.26e+07</td>\n",
       "</tr>\n",
       "</table><br/><br/>Notes:<br/>[1] Standard Errors assume that the covariance matrix of the errors is correctly specified.<br/>[2] The condition number is large, 1.26e+07. This might indicate that there are<br/>strong multicollinearity or other numerical problems."
      ],
      "text/plain": [
       "<class 'statsmodels.iolib.summary.Summary'>\n",
       "\"\"\"\n",
       "                            OLS Regression Results                            \n",
       "==============================================================================\n",
       "Dep. Variable:                  ASARH   R-squared:                       0.977\n",
       "Model:                            OLS   Adj. R-squared:                  0.973\n",
       "Method:                 Least Squares   F-statistic:                     253.2\n",
       "Date:                Fri, 13 Jan 2023   Prob (F-statistic):           6.67e-15\n",
       "Time:                        12:49:45   Log-Likelihood:                 34.885\n",
       "No. Observations:                  22   AIC:                            -61.77\n",
       "Df Residuals:                      18   BIC:                            -57.41\n",
       "Df Model:                           3                                         \n",
       "Covariance Type:            nonrobust                                         \n",
       "==============================================================================\n",
       "                 coef    std err          t      P>|t|      [0.025      0.975]\n",
       "------------------------------------------------------------------------------\n",
       "const         -6.5658      5.724     -1.147      0.266     -18.592       5.461\n",
       "GDR           -0.0276      0.005     -5.683      0.000      -0.038      -0.017\n",
       "DPI         3.781e-05    3.7e-06     10.211      0.000       3e-05    4.56e-05\n",
       "GEN            7.2997      5.494      1.329      0.201      -4.243      18.843\n",
       "==============================================================================\n",
       "Omnibus:                        1.256   Durbin-Watson:                   1.960\n",
       "Prob(Omnibus):                  0.534   Jarque-Bera (JB):                1.116\n",
       "Skew:                          -0.487   Prob(JB):                        0.572\n",
       "Kurtosis:                       2.483   Cond. No.                     1.26e+07\n",
       "==============================================================================\n",
       "\n",
       "Notes:\n",
       "[1] Standard Errors assume that the covariance matrix of the errors is correctly specified.\n",
       "[2] The condition number is large, 1.26e+07. This might indicate that there are\n",
       "strong multicollinearity or other numerical problems.\n",
       "\"\"\""
      ]
     },
     "execution_count": 50,
     "metadata": {},
     "output_type": "execute_result"
    }
   ],
   "source": [
    "OLS_y = HOU['ASARH']\n",
    "OLS_x = HOU[['GDR', 'DPI']]\n",
    "OLSi = sm.OLS(endog = OLS_y, exog = sm.add_constant(OLS_x)).fit()\n",
    "OLSi.summary()"
   ]
  }
 ],
 "metadata": {
  "kernelspec": {
   "display_name": "Python 3",
   "language": "python",
   "name": "python3"
  },
  "language_info": {
   "codemirror_mode": {
    "name": "ipython",
    "version": 3
   },
   "file_extension": ".py",
   "mimetype": "text/x-python",
   "name": "python",
   "nbconvert_exporter": "python",
   "pygments_lexer": "ipython3",
   "version": "3.9.11"
  },
  "orig_nbformat": 4,
  "vscode": {
   "interpreter": {
    "hash": "1f95ee3a5a8d1edd332160a4a1955a8d51c83c055274ab753fe6b6cce3862b4b"
   }
  }
 },
 "nbformat": 4,
 "nbformat_minor": 2
}
