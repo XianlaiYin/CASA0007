{
 "cells": [
  {
   "cell_type": "code",
   "execution_count": 1,
   "metadata": {},
   "outputs": [],
   "source": [
    "#Import\n",
    "import numpy as np\n",
    "import pandas as pd\n",
    "import statsmodels\n",
    "import statsmodels.api as sm\n",
    "import statsmodels.formula.api as smf\n",
    "from statsmodels.stats.outliers_influence import variance_inflation_factor \n",
    "from statsmodels.tools.tools import add_constant\n",
    "from matplotlib import pyplot as plt\n",
    "import scipy"
   ]
  },
  {
   "cell_type": "code",
   "execution_count": 2,
   "metadata": {},
   "outputs": [],
   "source": [
    "#Read in data\n",
    "DF90 = pd.read_csv('https://raw.githubusercontent.com/XianlaiYin/Data/main/CASA0007/national/1990.csv', index_col=0)\n",
    "DF00 = pd.read_csv('https://raw.githubusercontent.com/XianlaiYin/Data/main/CASA0007/national/2000.csv', index_col=0)"
   ]
  },
  {
   "cell_type": "code",
   "execution_count": 3,
   "metadata": {},
   "outputs": [],
   "source": [
    "#Calculate\n",
    "DF00['AUSRH'] = DF00['SRH'] / DF00['UP']\n",
    "DF00['AUSARH'] = DF00['SARH'] / DF00['UP']\n",
    "DF00['ASRH'] = DF00['SRH'] / DF00['TP']\n",
    "DF00['ASARH'] = DF00['SARH'] / DF00['TP']\n",
    "DF00['HIR'] = DF00['SPRH'] / DF00['DPI']\n",
    "DF00['RA65'] = DF00['A65'] / DF00['TP']"
   ]
  },
  {
   "cell_type": "code",
   "execution_count": 4,
   "metadata": {},
   "outputs": [],
   "source": [
    "#Def VIF\n",
    "def drop_column_using_vif_(df, thresh=5):\n",
    "    while True:\n",
    "        df_with_const = add_constant(df)\n",
    "        vif_df = pd.Series([variance_inflation_factor(df_with_const.values, i) \n",
    "               for i in range(df_with_const.shape[1])], name= \"VIF\",\n",
    "              index=df_with_const.columns).to_frame()\n",
    "        vif_df = vif_df.drop('const')\n",
    "        if vif_df.VIF.max() > thresh:\n",
    "            index_to_drop = vif_df.index[vif_df.VIF == vif_df.VIF.max()].tolist()[0]\n",
    "            print('Dropping: {}'.format(index_to_drop))\n",
    "            df = df.drop(columns = index_to_drop)\n",
    "        else:\n",
    "            break\n",
    "    return df"
   ]
  },
  {
   "cell_type": "code",
   "execution_count": 5,
   "metadata": {},
   "outputs": [],
   "source": [
    "#VIF\n",
    "WILLING = DF00[['HIR','GDR','NPGR']]\n",
    "WILLING_VIF = drop_column_using_vif_(WILLING)"
   ]
  },
  {
   "cell_type": "code",
   "execution_count": 6,
   "metadata": {},
   "outputs": [
    {
     "data": {
      "text/html": [
       "<table class=\"simpletable\">\n",
       "<caption>OLS Regression Results</caption>\n",
       "<tr>\n",
       "  <th>Dep. Variable:</th>         <td>AUSARH</td>      <th>  R-squared:         </th> <td>   0.920</td>\n",
       "</tr>\n",
       "<tr>\n",
       "  <th>Model:</th>                   <td>OLS</td>       <th>  Adj. R-squared:    </th> <td>   0.907</td>\n",
       "</tr>\n",
       "<tr>\n",
       "  <th>Method:</th>             <td>Least Squares</td>  <th>  F-statistic:       </th> <td>   69.08</td>\n",
       "</tr>\n",
       "<tr>\n",
       "  <th>Date:</th>             <td>Sun, 15 Jan 2023</td> <th>  Prob (F-statistic):</th> <td>4.51e-10</td>\n",
       "</tr>\n",
       "<tr>\n",
       "  <th>Time:</th>                 <td>13:11:10</td>     <th>  Log-Likelihood:    </th> <td>  12.165</td>\n",
       "</tr>\n",
       "<tr>\n",
       "  <th>No. Observations:</th>      <td>    22</td>      <th>  AIC:               </th> <td>  -16.33</td>\n",
       "</tr>\n",
       "<tr>\n",
       "  <th>Df Residuals:</th>          <td>    18</td>      <th>  BIC:               </th> <td>  -11.97</td>\n",
       "</tr>\n",
       "<tr>\n",
       "  <th>Df Model:</th>              <td>     3</td>      <th>                     </th>     <td> </td>   \n",
       "</tr>\n",
       "<tr>\n",
       "  <th>Covariance Type:</th>      <td>nonrobust</td>    <th>                     </th>     <td> </td>   \n",
       "</tr>\n",
       "</table>\n",
       "<table class=\"simpletable\">\n",
       "<tr>\n",
       "    <td></td>       <th>coef</th>     <th>std err</th>      <th>t</th>      <th>P>|t|</th>  <th>[0.025</th>    <th>0.975]</th>  \n",
       "</tr>\n",
       "<tr>\n",
       "  <th>const</th> <td>    4.5489</td> <td>    0.541</td> <td>    8.403</td> <td> 0.000</td> <td>    3.412</td> <td>    5.686</td>\n",
       "</tr>\n",
       "<tr>\n",
       "  <th>HIR</th>   <td>   -4.1776</td> <td>    0.597</td> <td>   -6.994</td> <td> 0.000</td> <td>   -5.433</td> <td>   -2.923</td>\n",
       "</tr>\n",
       "<tr>\n",
       "  <th>GDR</th>   <td>   -0.0573</td> <td>    0.014</td> <td>   -4.218</td> <td> 0.001</td> <td>   -0.086</td> <td>   -0.029</td>\n",
       "</tr>\n",
       "<tr>\n",
       "  <th>NPGR</th>  <td>   -0.1251</td> <td>    0.029</td> <td>   -4.275</td> <td> 0.000</td> <td>   -0.187</td> <td>   -0.064</td>\n",
       "</tr>\n",
       "</table>\n",
       "<table class=\"simpletable\">\n",
       "<tr>\n",
       "  <th>Omnibus:</th>       <td> 0.449</td> <th>  Durbin-Watson:     </th> <td>   2.279</td>\n",
       "</tr>\n",
       "<tr>\n",
       "  <th>Prob(Omnibus):</th> <td> 0.799</td> <th>  Jarque-Bera (JB):  </th> <td>   0.446</td>\n",
       "</tr>\n",
       "<tr>\n",
       "  <th>Skew:</th>          <td>-0.290</td> <th>  Prob(JB):          </th> <td>   0.800</td>\n",
       "</tr>\n",
       "<tr>\n",
       "  <th>Kurtosis:</th>      <td> 2.612</td> <th>  Cond. No.          </th> <td>    797.</td>\n",
       "</tr>\n",
       "</table><br/><br/>Notes:<br/>[1] Standard Errors assume that the covariance matrix of the errors is correctly specified."
      ],
      "text/plain": [
       "<class 'statsmodels.iolib.summary.Summary'>\n",
       "\"\"\"\n",
       "                            OLS Regression Results                            \n",
       "==============================================================================\n",
       "Dep. Variable:                 AUSARH   R-squared:                       0.920\n",
       "Model:                            OLS   Adj. R-squared:                  0.907\n",
       "Method:                 Least Squares   F-statistic:                     69.08\n",
       "Date:                Sun, 15 Jan 2023   Prob (F-statistic):           4.51e-10\n",
       "Time:                        13:11:10   Log-Likelihood:                 12.165\n",
       "No. Observations:                  22   AIC:                            -16.33\n",
       "Df Residuals:                      18   BIC:                            -11.97\n",
       "Df Model:                           3                                         \n",
       "Covariance Type:            nonrobust                                         \n",
       "==============================================================================\n",
       "                 coef    std err          t      P>|t|      [0.025      0.975]\n",
       "------------------------------------------------------------------------------\n",
       "const          4.5489      0.541      8.403      0.000       3.412       5.686\n",
       "HIR           -4.1776      0.597     -6.994      0.000      -5.433      -2.923\n",
       "GDR           -0.0573      0.014     -4.218      0.001      -0.086      -0.029\n",
       "NPGR          -0.1251      0.029     -4.275      0.000      -0.187      -0.064\n",
       "==============================================================================\n",
       "Omnibus:                        0.449   Durbin-Watson:                   2.279\n",
       "Prob(Omnibus):                  0.799   Jarque-Bera (JB):                0.446\n",
       "Skew:                          -0.290   Prob(JB):                        0.800\n",
       "Kurtosis:                       2.612   Cond. No.                         797.\n",
       "==============================================================================\n",
       "\n",
       "Notes:\n",
       "[1] Standard Errors assume that the covariance matrix of the errors is correctly specified.\n",
       "\"\"\""
      ]
     },
     "execution_count": 6,
     "metadata": {},
     "output_type": "execute_result"
    }
   ],
   "source": [
    "#OLS\n",
    "#OLS_y: AUSARH - SARH住宅销售面积 / UP城镇人口\n",
    "#OLS_x: HIR - SPRH住宅销售价格 / DPI居民人均可支配收入, GDR - 人口抚养比, NPGR - 人口自然增长率\n",
    "OLS_y = DF00['AUSARH'].apply(np.log)\n",
    "OLS_x = DF00[['HIR','GDR','NPGR']]\n",
    "olsresult = sm.OLS(endog = OLS_y, exog = sm.add_constant(OLS_x)).fit()\n",
    "olsresult.summary()"
   ]
  },
  {
   "cell_type": "code",
   "execution_count": 15,
   "metadata": {},
   "outputs": [
    {
     "data": {
      "image/png": "[encoded data removed]",
      "text/plain": [
       "<Figure size 432x288 with 1 Axes>"
      ]
     },
     "metadata": {
      "needs_background": "light"
     },
     "output_type": "display_data"
    },
    {
     "data": {
      "image/png": "[encoded data removed]",
      "text/plain": [
       "<Figure size 432x288 with 1 Axes>"
      ]
     },
     "metadata": {
      "needs_background": "light"
     },
     "output_type": "display_data"
    },
    {
     "name": "stdout",
     "output_type": "stream",
     "text": [
      "KstestResult(statistic=0.41281951709916664, pvalue=0.0006598243801234638)\n",
      "NormaltestResult(statistic=0.44860328075460715, pvalue=0.7990740650106034)\n",
      "(8.330620956639834, 0.015524894008744388, 3.859765628320949, 0.025964214791507758)\n"
     ]
    },
    {
     "data": {
      "image/png": "[encoded data removed]",
      "text/plain": [
       "<Figure size 576x576 with 1 Axes>"
      ]
     },
     "metadata": {
      "needs_background": "light"
     },
     "output_type": "display_data"
    }
   ],
   "source": [
    "#残差检验\n",
    "plt.scatter(olsresult.fittedvalues, olsresult.resid)\n",
    "plt.xlabel('price_log')\n",
    "plt.ylabel('Residual')\n",
    "plt.axhline(y=2, color='r', linestyle='--')\n",
    "plt.axhline(y=-2, color='r', linestyle='--') \n",
    "plt.show()\n",
    "\n",
    "#残差正态性检验\n",
    "plt.figure()\n",
    "olsresult.resid.plot.density()\n",
    "plt.show()\n",
    "kstest = scipy.stats.kstest(olsresult.resid,cdf = \"norm\")\n",
    "normaltest = scipy.stats.normaltest(olsresult.resid)\n",
    "print(kstest)\n",
    "print(normaltest)\n",
    "\n",
    "#残差方差齐性检验\n",
    "#第一个值为LM统计量；第二个值是统计量对应的概率p值；第三个值为F统计量，用于检验残差平方项与自变量之间是否独立，如果独立则表明残差方差齐性；第四个值则为F统计量的概率p值，同样大于0.05，则进一步表示残差项满足方差齐性的假设。\n",
    "BP_test = statsmodels.stats.diagnostic.het_breuschpagan(exog_het = OLS_x, resid = olsresult.resid)\n",
    "print(BP_test)\n",
    "\n",
    "#回归拟合\n",
    "fig, ax = plt.subplots(figsize=(8,8))\n",
    "predict = olsresult.fittedvalues\n",
    "pd.DataFrame({\"Prediction\":predict,\"Real\":OLS_y})\n",
    "plt.scatter(x = OLS_y, y = predict) \n",
    "plt.plot([OLS_y.min(),OLS_y.max()],[OLS_y.min(),OLS_y.max()],color = \"red\", linestyle = \"--\")\n",
    "plt.show()"
   ]
  },
  {
   "cell_type": "code",
   "execution_count": 8,
   "metadata": {},
   "outputs": [],
   "source": [
    "#Province Data\n",
    "AUSARH = pd.read_csv('https://raw.githubusercontent.com/XianlaiYin/Data/main/CASA0007/province/AUSARH.csv',index_col=0).T\n",
    "GDR = pd.read_csv('https://raw.githubusercontent.com/XianlaiYin/Data/main/CASA0007/province/GDR.csv',index_col=0).T\n",
    "HIR = pd.read_csv('https://raw.githubusercontent.com/XianlaiYin/Data/main/CASA0007/province/HIR.csv',index_col=0).T\n",
    "NPGR = pd.read_csv('https://raw.githubusercontent.com/XianlaiYin/Data/main/CASA0007/province/NPGR.csv',index_col=0).T\n",
    "SARH = pd.read_csv('https://raw.githubusercontent.com/XianlaiYin/Data/main/CASA0007/province/SARH.csv',index_col=0).T\n",
    "SPRH = pd.read_csv('https://raw.githubusercontent.com/XianlaiYin/Data/main/CASA0007/province/SPRH.csv',index_col=0).T\n",
    "UP = pd.read_csv('https://raw.githubusercontent.com/XianlaiYin/Data/main/CASA0007/province/UP.csv',index_col=0).T"
   ]
  },
  {
   "cell_type": "code",
   "execution_count": 9,
   "metadata": {},
   "outputs": [],
   "source": [
    "AUSARH['province'] = AUSARH.index\n",
    "GDR['province'] = GDR.index\n",
    "HIR['province'] = HIR.index\n",
    "NPGR['province'] = NPGR.index\n",
    "SARH['province'] = SARH.index\n",
    "SPRH['province'] = SPRH.index\n",
    "UP['province'] = UP.index\n",
    "\n",
    "melted_AUSARH = pd.melt(AUSARH, id_vars=['province'], value_vars=[2002,2003,2004,2005,2006,2007,2008,2009,2010,2011,2012,2013,2014,2015,2016,2017,2018,2019,2020,2021])\n",
    "melted_GDR = pd.melt(GDR, id_vars=['province'], value_vars=[2002,2003,2004,2005,2006,2007,2008,2009,2010,2011,2012,2013,2014,2015,2016,2017,2018,2019,2020,2021])\n",
    "melted_HIR = pd.melt(HIR, id_vars=['province'], value_vars=[2002,2003,2004,2005,2006,2007,2008,2009,2010,2011,2012,2013,2014,2015,2016,2017,2018,2019,2020,2021])\n",
    "melted_NPGR = pd.melt(NPGR, id_vars=['province'], value_vars=[2002,2003,2004,2005,2006,2007,2008,2009,2010,2011,2012,2013,2014,2015,2016,2017,2018,2019,2020,2021])\n",
    "melted_SARH = pd.melt(SARH, id_vars=['province'], value_vars=[2002,2003,2004,2005,2006,2007,2008,2009,2010,2011,2012,2013,2014,2015,2016,2017,2018,2019,2020,2021])\n",
    "melted_SPRH = pd.melt(SPRH, id_vars=['province'], value_vars=[2002,2003,2004,2005,2006,2007,2008,2009,2010,2011,2012,2013,2014,2015,2016,2017,2018,2019,2020,2021])\n",
    "melted_UP = pd.melt(UP, id_vars=['province'], value_vars=[2002,2003,2004,2005,2006,2007,2008,2009,2010,2011,2012,2013,2014,2015,2016,2017,2018,2019,2020,2021])\n",
    "\n",
    "national = pd.DataFrame({'province': melted_AUSARH['province'], 'year': melted_AUSARH['Year'], 'AUSARH': melted_AUSARH['value'], 'GDR': melted_GDR['value'], 'HIR': melted_HIR['value'], 'NPGR': melted_NPGR['value'], 'SARH': melted_SARH['value'], 'SPRH': melted_SPRH['value'], 'UP': melted_UP['value']})\n",
    "national['AUSARH_log'] = np.log(national['AUSARH'])"
   ]
  },
  {
   "cell_type": "code",
   "execution_count": 10,
   "metadata": {},
   "outputs": [
    {
     "data": {
      "text/plain": [
       "\"\\ndef extract(i):\\n    AUSARHi = AUSARH[i]\\n    GDRi = GDR[i]\\n    HIRi = HIR[i]\\n    NPGRi = NPGR[i]\\n    SARHi = SARH[i]\\n    SPRHi = SPRH[i]\\n    UPi = UP[i]\\n    \\n    SETi = pd.DataFrame({'AUSARH':AUSARHi, 'GDR':GDRi, 'HIR':HIRi, 'NPGR':NPGRi, 'SARH':SARHi, 'SPRH':SPRHi, 'UP':UPi})\\n  \\n    return SETi\\n\\nprovince = ['Beijing']\\n\\nfor i in province:\\n    SET = extract(i)\\n\""
      ]
     },
     "execution_count": 10,
     "metadata": {},
     "output_type": "execute_result"
    }
   ],
   "source": [
    "'''\n",
    "def extract(i):\n",
    "    AUSARHi = AUSARH[i]\n",
    "    GDRi = GDR[i]\n",
    "    HIRi = HIR[i]\n",
    "    NPGRi = NPGR[i]\n",
    "    SARHi = SARH[i]\n",
    "    SPRHi = SPRH[i]\n",
    "    UPi = UP[i]\n",
    "    \n",
    "    SETi = pd.DataFrame({'AUSARH':AUSARHi, 'GDR':GDRi, 'HIR':HIRi, 'NPGR':NPGRi, 'SARH':SARHi, 'SPRH':SPRHi, 'UP':UPi})\n",
    "  \n",
    "    return SETi\n",
    "\n",
    "province = ['Beijing']\n",
    "\n",
    "for i in province:\n",
    "    SET = extract(i)\n",
    "'''"
   ]
  },
  {
   "cell_type": "code",
   "execution_count": 11,
   "metadata": {},
   "outputs": [
    {
     "name": "stdout",
     "output_type": "stream",
     "text": [
      "         Mixed Linear Model Regression Results\n",
      "========================================================\n",
      "Model:            MixedLM Dependent Variable: AUSARH_log\n",
      "No. Observations: 620     Method:             REML      \n",
      "No. Groups:       31      Scale:              0.2357    \n",
      "Min. group size:  20      Log-Likelihood:     -479.6495 \n",
      "Max. group size:  20      Converged:          Yes       \n",
      "Mean group size:  20.0                                  \n",
      "--------------------------------------------------------\n",
      "              Coef.  Std.Err.   z    P>|z| [0.025 0.975]\n",
      "--------------------------------------------------------\n",
      "Intercept      1.568    0.283  5.543 0.000  1.014  2.123\n",
      "HIR           -1.709    0.529 -3.228 0.001 -2.746 -0.671\n",
      "GDR           -0.019    0.005 -3.675 0.000 -0.029 -0.009\n",
      "NPGR          -0.074    0.013 -5.645 0.000 -0.099 -0.048\n",
      "Group Var      0.149    0.106                           \n",
      "========================================================\n",
      "\n"
     ]
    }
   ],
   "source": [
    "model = smf.mixedlm(\"AUSARH_log ~ HIR + GDR + NPGR\", data = national, groups = national[\"province\"])\n",
    "result = model.fit()\n",
    "print(result.summary())"
   ]
  },
  {
   "cell_type": "code",
   "execution_count": 12,
   "metadata": {},
   "outputs": [
    {
     "ename": "KeyError",
     "evalue": "'Intercept'",
     "output_type": "error",
     "traceback": [
      "\u001b[1;31m---------------------------------------------------------------------------\u001b[0m",
      "\u001b[1;31mKeyError\u001b[0m                                  Traceback (most recent call last)",
      "\u001b[1;32m<ipython-input-12-cf1171f7e262>\u001b[0m in \u001b[0;36m<module>\u001b[1;34m\u001b[0m\n\u001b[0;32m      4\u001b[0m \u001b[1;32mfor\u001b[0m \u001b[0mprovince\u001b[0m \u001b[1;32min\u001b[0m \u001b[0mfixed_effect_coef\u001b[0m\u001b[1;33m.\u001b[0m\u001b[0mkeys\u001b[0m\u001b[1;33m(\u001b[0m\u001b[1;33m)\u001b[0m\u001b[1;33m:\u001b[0m\u001b[1;33m\u001b[0m\u001b[1;33m\u001b[0m\u001b[0m\n\u001b[0;32m      5\u001b[0m     \u001b[0mfe_coef\u001b[0m \u001b[1;33m=\u001b[0m \u001b[0mfixed_effect_coef\u001b[0m\u001b[1;33m[\u001b[0m\u001b[0mprovince\u001b[0m\u001b[1;33m]\u001b[0m\u001b[1;33m\u001b[0m\u001b[1;33m\u001b[0m\u001b[0m\n\u001b[1;32m----> 6\u001b[1;33m     \u001b[0mre_coef\u001b[0m \u001b[1;33m=\u001b[0m \u001b[0mrandom_effect_coef\u001b[0m\u001b[1;33m[\u001b[0m\u001b[0mprovince\u001b[0m\u001b[1;33m]\u001b[0m\u001b[1;33m\u001b[0m\u001b[1;33m\u001b[0m\u001b[0m\n\u001b[0m\u001b[0;32m      7\u001b[0m     \u001b[0mpredict_sales\u001b[0m \u001b[1;33m=\u001b[0m \u001b[0mfe_coef\u001b[0m \u001b[1;33m+\u001b[0m \u001b[0mre_coef\u001b[0m\u001b[1;33m\u001b[0m\u001b[1;33m\u001b[0m\u001b[0m\n\u001b[0;32m      8\u001b[0m     \u001b[0mprint\u001b[0m\u001b[1;33m(\u001b[0m\u001b[1;34mf\"Province: {province}, Predicted Sales: {predict_sales}\"\u001b[0m\u001b[1;33m)\u001b[0m\u001b[1;33m\u001b[0m\u001b[1;33m\u001b[0m\u001b[0m\n",
      "\u001b[1;31mKeyError\u001b[0m: 'Intercept'"
     ]
    }
   ],
   "source": [
    "fixed_effect_coef = result.params\n",
    "random_effect_coef = result.random_effects\n",
    "\n",
    "for province in fixed_effect_coef.keys():\n",
    "    fe_coef = fixed_effect_coef[province]\n",
    "    re_coef = random_effect_coef[province]\n",
    "    predict_sales = fe_coef + re_coef\n",
    "    print(f\"Province: {province}, Predicted Sales: {predict_sales}\")"
   ]
  },
  {
   "cell_type": "code",
   "execution_count": null,
   "metadata": {},
   "outputs": [
    {
     "name": "stderr",
     "output_type": "stream",
     "text": [
      "c:\\Users\\xianl\\AppData\\Local\\ESRI\\conda\\envs\\arcpy\\lib\\site-packages\\statsmodels\\base\\model.py:566: ConvergenceWarning: Maximum Likelihood optimization failed to converge. Check mle_retvals\n",
      "  warnings.warn(\"Maximum Likelihood optimization failed to \"\n",
      "c:\\Users\\xianl\\AppData\\Local\\ESRI\\conda\\envs\\arcpy\\lib\\site-packages\\statsmodels\\regression\\mixed_linear_model.py:2200: ConvergenceWarning: Retrying MixedLM optimization with lbfgs\n",
      "  warnings.warn(\n"
     ]
    },
    {
     "name": "stdout",
     "output_type": "stream",
     "text": [
      "           Mixed Linear Model Regression Results\n",
      "===========================================================\n",
      "Model:             MixedLM  Dependent Variable:  AUSARH_log\n",
      "No. Observations:  620      Method:              REML      \n",
      "No. Groups:        31       Scale:               0.1654    \n",
      "Min. group size:   20       Log-Likelihood:      -444.7411 \n",
      "Max. group size:   20       Converged:           Yes       \n",
      "Mean group size:   20.0                                    \n",
      "-----------------------------------------------------------\n",
      "                 Coef.  Std.Err.   z    P>|z| [0.025 0.975]\n",
      "-----------------------------------------------------------\n",
      "Intercept         1.866    0.379  4.921 0.000  1.123  2.609\n",
      "HIR              -1.643    0.656 -2.503 0.012 -2.930 -0.356\n",
      "GDR              -0.028    0.004 -6.499 0.000 -0.037 -0.020\n",
      "NPGR             -0.086    0.022 -3.950 0.000 -0.129 -0.043\n",
      "Group Var         4.016    2.596                           \n",
      "Group x HIR Cov   1.266    1.090                           \n",
      "HIR Var           1.480                                    \n",
      "Group x GDR Cov  -0.094    0.060                           \n",
      "HIR x GDR Cov    -0.014                                    \n",
      "GDR Var           0.002                                    \n",
      "Group x NPGR Cov -0.075                                    \n",
      "HIR x NPGR Cov   -0.096                                    \n",
      "GDR x NPGR Cov    0.001                                    \n",
      "NPGR Var          0.020                                    \n",
      "===========================================================\n",
      "\n"
     ]
    },
    {
     "name": "stderr",
     "output_type": "stream",
     "text": [
      "c:\\Users\\xianl\\AppData\\Local\\ESRI\\conda\\envs\\arcpy\\lib\\site-packages\\statsmodels\\regression\\mixed_linear_model.py:2237: ConvergenceWarning: The MLE may be on the boundary of the parameter space.\n",
      "  warnings.warn(msg, ConvergenceWarning)\n",
      "c:\\Users\\xianl\\AppData\\Local\\ESRI\\conda\\envs\\arcpy\\lib\\site-packages\\statsmodels\\regression\\mixed_linear_model.py:2261: ConvergenceWarning: The Hessian matrix at the estimated parameter values is not positive definite.\n",
      "  warnings.warn(msg, ConvergenceWarning)\n"
     ]
    }
   ],
   "source": [
    "model = smf.mixedlm(\"AUSARH_log ~ HIR + GDR + NPGR\", data=national, groups=national[\"province\"], re_formula=\"~ HIR + GDR + NPGR\")\n",
    "result = model.fit()\n",
    "print(result.summary())"
   ]
  },
  {
   "cell_type": "code",
   "execution_count": null,
   "metadata": {},
   "outputs": [
    {
     "name": "stdout",
     "output_type": "stream",
     "text": [
      "Group: Anhui, Predicted Sales: Group   -0.435715\n",
      "HIR      0.340494\n",
      "GDR      0.017121\n",
      "NPGR     0.027388\n",
      "dtype: float64\n",
      "Group: Beijing, Predicted Sales: Group    0.793892\n",
      "HIR     -0.471464\n",
      "GDR     -0.028855\n",
      "NPGR    -0.093976\n",
      "dtype: float64\n",
      "Group: Chongqing, Predicted Sales: Group   -0.273661\n",
      "HIR      0.495889\n",
      "GDR      0.014738\n",
      "NPGR     0.061229\n",
      "dtype: float64\n",
      "Group: Fujian, Predicted Sales: Group   -0.380561\n",
      "HIR     -0.014330\n",
      "GDR      0.010293\n",
      "NPGR     0.053678\n",
      "dtype: float64\n",
      "Group: Gansu, Predicted Sales: Group    2.304339\n",
      "HIR      1.445233\n",
      "GDR     -0.042866\n",
      "NPGR    -0.192969\n",
      "dtype: float64\n",
      "Group: Guangdong, Predicted Sales: Group    0.357045\n",
      "HIR     -0.197603\n",
      "GDR     -0.013070\n",
      "NPGR     0.057948\n",
      "dtype: float64\n",
      "Group: Guangxi, Predicted Sales: Group   -4.649052\n",
      "HIR     -2.302320\n",
      "GDR      0.096178\n",
      "NPGR     0.151166\n",
      "dtype: float64\n",
      "Group: Guizhou, Predicted Sales: Group    0.949768\n",
      "HIR      2.450343\n",
      "GDR      0.009756\n",
      "NPGR    -0.170624\n",
      "dtype: float64\n",
      "Group: Hainan, Predicted Sales: Group    5.105239\n",
      "HIR      1.596948\n",
      "GDR     -0.119743\n",
      "NPGR     0.002443\n",
      "dtype: float64\n",
      "Group: Hebei, Predicted Sales: Group   -3.180693\n",
      "HIR     -1.424256\n",
      "GDR      0.067871\n",
      "NPGR     0.146095\n",
      "dtype: float64\n",
      "Group: Heilongjiang, Predicted Sales: Group    0.477585\n",
      "HIR     -1.646095\n",
      "GDR     -0.037536\n",
      "NPGR     0.018669\n",
      "dtype: float64\n",
      "Group: Henan, Predicted Sales: Group   -2.642314\n",
      "HIR     -0.571973\n",
      "GDR      0.065651\n",
      "NPGR     0.017586\n",
      "dtype: float64\n",
      "Group: Hubei, Predicted Sales: Group   -1.577708\n",
      "HIR     -0.952512\n",
      "GDR      0.029724\n",
      "NPGR     0.187071\n",
      "dtype: float64\n",
      "Group: Hunan, Predicted Sales: Group   -5.266029\n",
      "HIR     -2.180144\n",
      "GDR      0.115160\n",
      "NPGR     0.180955\n",
      "dtype: float64\n",
      "Group: Inner Mongolia, Predicted Sales: Group    1.726120\n",
      "HIR     -0.884893\n",
      "GDR     -0.061317\n",
      "NPGR    -0.008285\n",
      "dtype: float64\n",
      "Group: Jiangsu, Predicted Sales: Group   -0.294455\n",
      "HIR      0.293197\n",
      "GDR      0.012673\n",
      "NPGR    -0.043041\n",
      "dtype: float64\n",
      "Group: Jiangxi, Predicted Sales: Group    0.522966\n",
      "HIR      1.601305\n",
      "GDR      0.009090\n",
      "NPGR    -0.107257\n",
      "dtype: float64\n",
      "Group: Jilin, Predicted Sales: Group   -0.360695\n",
      "HIR     -0.942750\n",
      "GDR     -0.003420\n",
      "NPGR    -0.092025\n",
      "dtype: float64\n",
      "Group: Liaoning, Predicted Sales: Group    1.181960\n",
      "HIR     -0.747982\n",
      "GDR     -0.043974\n",
      "NPGR    -0.033494\n",
      "dtype: float64\n",
      "Group: Ningxia, Predicted Sales: Group    1.805529\n",
      "HIR      1.225379\n",
      "GDR     -0.032735\n",
      "NPGR     0.023442\n",
      "dtype: float64\n",
      "Group: Qinghai, Predicted Sales: Group    2.617214\n",
      "HIR      1.161934\n",
      "GDR     -0.056174\n",
      "NPGR    -0.060425\n",
      "dtype: float64\n",
      "Group: Shaanxi, Predicted Sales: Group    1.831261\n",
      "HIR      0.723997\n",
      "GDR     -0.040264\n",
      "NPGR    -0.159726\n",
      "dtype: float64\n",
      "Group: Shandong, Predicted Sales: Group   -2.515308\n",
      "HIR     -0.771947\n",
      "GDR      0.058880\n",
      "NPGR     0.111895\n",
      "dtype: float64\n",
      "Group: Shanghai, Predicted Sales: Group   -0.623583\n",
      "HIR     -0.243726\n",
      "GDR      0.013880\n",
      "NPGR     0.013099\n",
      "dtype: float64\n",
      "Group: Shanxi, Predicted Sales: Group    1.225343\n",
      "HIR      0.204146\n",
      "GDR     -0.030918\n",
      "NPGR    -0.150547\n",
      "dtype: float64\n",
      "Group: Sichuan, Predicted Sales: Group   -1.357100\n",
      "HIR      0.055613\n",
      "GDR      0.038797\n",
      "NPGR     0.016853\n",
      "dtype: float64\n",
      "Group: Tianjin, Predicted Sales: Group   -0.019397\n",
      "HIR     -0.221969\n",
      "GDR     -0.002836\n",
      "NPGR     0.041760\n",
      "dtype: float64\n",
      "Group: Tibet, Predicted Sales: Group    0.441151\n",
      "HIR      0.527592\n",
      "GDR     -0.004488\n",
      "NPGR    -0.052305\n",
      "dtype: float64\n",
      "Group: Xinjiang, Predicted Sales: Group    1.259746\n",
      "HIR      0.215138\n",
      "GDR     -0.032333\n",
      "NPGR     0.058427\n",
      "dtype: float64\n",
      "Group: Yunnan, Predicted Sales: Group    2.162482\n",
      "HIR      1.293419\n",
      "GDR     -0.041515\n",
      "NPGR    -0.056213\n",
      "dtype: float64\n",
      "Group: Zhejiang, Predicted Sales: Group   -1.185367\n",
      "HIR     -0.056663\n",
      "GDR      0.032234\n",
      "NPGR     0.051183\n",
      "dtype: float64\n"
     ]
    }
   ],
   "source": [
    "fixed_effect_coef = result.params\n",
    "random_effect_coef = result.random_effects\n",
    "\n",
    "for group in random_effect_coef.keys():\n",
    "    re_coef = random_effect_coef[group]\n",
    "    print(f\"Group: {group}, Predicted Sales: {re_coef}\")"
   ]
  },
  {
   "cell_type": "code",
   "execution_count": null,
   "metadata": {},
   "outputs": [
    {
     "ename": "KeyError",
     "evalue": "'HIR'",
     "output_type": "error",
     "traceback": [
      "\u001b[1;31m---------------------------------------------------------------------------\u001b[0m",
      "\u001b[1;31mKeyError\u001b[0m                                  Traceback (most recent call last)",
      "\u001b[1;32m<ipython-input-58-5b8e1bdc5a93>\u001b[0m in \u001b[0;36m<module>\u001b[1;34m\u001b[0m\n\u001b[0;32m      2\u001b[0m     \u001b[1;32mif\u001b[0m \u001b[0mprovince\u001b[0m \u001b[1;33m!=\u001b[0m \u001b[1;34m'Intercept'\u001b[0m\u001b[1;33m:\u001b[0m\u001b[1;33m\u001b[0m\u001b[1;33m\u001b[0m\u001b[0m\n\u001b[0;32m      3\u001b[0m         \u001b[0mfe_coef\u001b[0m \u001b[1;33m=\u001b[0m \u001b[0mfixed_effect_coef\u001b[0m\u001b[1;33m[\u001b[0m\u001b[0mprovince\u001b[0m\u001b[1;33m]\u001b[0m\u001b[1;33m\u001b[0m\u001b[1;33m\u001b[0m\u001b[0m\n\u001b[1;32m----> 4\u001b[1;33m         \u001b[0mre_coef\u001b[0m \u001b[1;33m=\u001b[0m \u001b[0mrandom_effect_coef\u001b[0m\u001b[1;33m[\u001b[0m\u001b[0mprovince\u001b[0m\u001b[1;33m]\u001b[0m\u001b[1;33m\u001b[0m\u001b[1;33m\u001b[0m\u001b[0m\n\u001b[0m\u001b[0;32m      5\u001b[0m         \u001b[0mpredict_sales\u001b[0m \u001b[1;33m=\u001b[0m \u001b[0mfe_coef\u001b[0m \u001b[1;33m+\u001b[0m \u001b[0mre_coef\u001b[0m\u001b[1;33m\u001b[0m\u001b[1;33m\u001b[0m\u001b[0m\n\u001b[0;32m      6\u001b[0m         \u001b[0mprint\u001b[0m\u001b[1;33m(\u001b[0m\u001b[1;34mf\"Province: {province}, Predicted Sales: {predict_sales}\"\u001b[0m\u001b[1;33m)\u001b[0m\u001b[1;33m\u001b[0m\u001b[1;33m\u001b[0m\u001b[0m\n",
      "\u001b[1;31mKeyError\u001b[0m: 'HIR'"
     ]
    }
   ],
   "source": [
    "for province in fixed_effect_coef.keys():\n",
    "    if province != 'Intercept':\n",
    "        fe_coef = fixed_effect_coef[province]\n",
    "        re_coef = random_effect_coef[province]\n",
    "        predict_sales = fe_coef + re_coef\n",
    "        print(f\"Province: {province}, Predicted Sales: {predict_sales}\")"
   ]
  },
  {
   "attachments": {},
   "cell_type": "markdown",
   "metadata": {},
   "source": [
    "双因素固定效应模型怎么用python建立，有以下要求：\n",
    "\n",
    "自变量：HIR（房价收入比）、GDR（人口抚养比）、NPGR（人口自然增长率）\n",
    "因变量：AUSARH_log（城镇人口人均购房面积）\n",
    "时间：2002年-2021年\n",
    "个体：中国31个省\n",
    "\n",
    "建立模型后，如果得到每个省具体的拟合公式？又如何用已知的未来的自变量，预测未来的因变量？\n",
    "\n",
    "请给出详细的代码示例"
   ]
  }
 ],
 "metadata": {
  "kernelspec": {
   "display_name": "Python 3",
   "language": "python",
   "name": "python3"
  },
  "language_info": {
   "codemirror_mode": {
    "name": "ipython",
    "version": 3
   },
   "file_extension": ".py",
   "mimetype": "text/x-python",
   "name": "python",
   "nbconvert_exporter": "python",
   "pygments_lexer": "ipython3",
   "version": "3.9.15 (main, Nov 24 2022, 14:39:17) [MSC v.1916 64 bit (AMD64)]"
  },
  "orig_nbformat": 4,
  "vscode": {
   "interpreter": {
    "hash": "1f95ee3a5a8d1edd332160a4a1955a8d51c83c055274ab753fe6b6cce3862b4b"
   }
  }
 },
 "nbformat": 4,
 "nbformat_minor": 2
}
