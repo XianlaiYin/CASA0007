{
 "cells": [
  {
   "cell_type": "markdown",
   "metadata": {},
   "source": [
    "<div style=\"float:left\">\n",
    "            <h1 style=\"width:450px\">CASA0007 Practical 8: Modelling the real world - Population model</h1>\n",
    "</div>\n",
    "<div style=\"float:right\"><img width=\"100\" src=\"https://github.com/jreades/i2p/raw/master/img/casa_logo.jpg\" /></div>"
   ]
  },
  {
   "cell_type": "markdown",
   "metadata": {},
   "source": [
    "Welcome to Practical 8. There are three notebooks in this practical. \n",
    "\n",
    "This notebook is a demonstration of the population model, which consists of three population groups: children, adults, elderly.\n",
    "\n",
    "We will observe how the size of each group changes with time.\n"
   ]
  },
  {
   "cell_type": "code",
   "execution_count": 14,
   "metadata": {},
   "outputs": [],
   "source": [
    "# The following lines import the necessary packages\n",
    "import numpy as np              \n",
    "import matplotlib.pyplot as plt "
   ]
  },
  {
   "cell_type": "markdown",
   "metadata": {},
   "source": [
    "Set up the parameters."
   ]
  },
  {
   "cell_type": "code",
   "execution_count": 15,
   "metadata": {},
   "outputs": [],
   "source": [
    "# Decide on your parameters\n",
    "alpha = 0.07 #Proportion of kids who become adults each year\n",
    "beta = 0.05 #Proportion of adults who have a new baby each year \n",
    "gamma = 0.07 #Proportion of adults who become elderly\n",
    "delta = 0.07 #proportion of elderly people who die each year\n",
    "\n",
    "#And your initial populations\n",
    "X0 = 11000 #The number of children\n",
    "Y0 = 36000 #The number of adults\n",
    "Z0 = 13000 #The number of elderly\n",
    "\n",
    "#And how long you want the simulation to last for\n",
    "maxTime = 50 #Years"
   ]
  },
  {
   "cell_type": "code",
   "execution_count": 16,
   "metadata": {},
   "outputs": [],
   "source": [
    "# FIGURE PARAMETERS\n",
    "\n",
    "# Use the next line to set figure height and width (experiment to check the scale):\n",
    "figure_width, figure_height = 7,7\n",
    "\n",
    "# These lines set the figure title and axis labels and the font sizes:\n",
    "fig_title = 'A simple SIR model'\n",
    "x_label   = 'Time'\n",
    "y_label   = 'Populations'\n",
    "title_fontsize = 15\n",
    "label_fontsize = 10\n",
    "\n",
    "# These lines set the limits of the x and y axes, so that all plots are on the same scale.\n",
    "x_min, x_max = 0,maxTime\n",
    "y_min, y_max = 0, (X0+Y0+Z0)\n",
    "\n",
    "# This is a function that sets up each figure's x-limits and y-limits and axis labels.\n",
    "\n",
    "def setup_figure():\n",
    "    \n",
    "    plt.xlim([x_min, x_max])\n",
    "    plt.ylim([y_min, y_max])\n",
    "    plt.xlabel(x_label,fontsize=label_fontsize)\n",
    "    plt.ylabel(y_label,fontsize=label_fontsize)\n"
   ]
  },
  {
   "cell_type": "code",
   "execution_count": 17,
   "metadata": {},
   "outputs": [],
   "source": [
    "#Initialise the three groups\n",
    "X, Y, Z = np.array([X0]), np.array([Y0]),np.array([Z0])"
   ]
  },
  {
   "cell_type": "code",
   "execution_count": 18,
   "metadata": {},
   "outputs": [],
   "source": [
    "#Here's how to do simulation that increments forwards in time\n",
    "\n",
    "#First initialise your \"timer\" to zero\n",
    "t = 0\n",
    "\n",
    "#Now set up a loop that will execute until the timer is reaches maxTime\n",
    "while t<maxTime:\n",
    "    t+=1 #increment forward your timer. \n",
    "    \n",
    "    #Here are the current populations in each group\n",
    "    Xnow = X[-1]\n",
    "    Ynow = Y[-1]\n",
    "    Znow = Z[-1]\n",
    "    \n",
    "    #And use the equations to work out what the changes to the values\n",
    "    deltaX = beta*Ynow - alpha*Xnow\n",
    "    deltaY = alpha*Xnow - gamma*Ynow\n",
    "    deltaZ = gamma*Ynow - delta*Znow\n",
    "\n",
    "    #Which leaves the new values as\n",
    "    Xnew = Xnow + deltaX\n",
    "    Ynew = Ynow + deltaY\n",
    "    Znew = Znow + deltaZ\n",
    "\n",
    "    #Append these new values to the relevant arrays\n",
    "    X = np.append(X, Xnew)\n",
    "    Y = np.append(Y, Ynew)\n",
    "    Z = np.append(Z, Znew)"
   ]
  },
  {
   "cell_type": "code",
   "execution_count": 19,
   "metadata": {},
   "outputs": [
    {
     "data": {
      "text/plain": [
       "[<matplotlib.lines.Line2D at 0x7f3aec474250>]"
      ]
     },
     "execution_count": 19,
     "metadata": {},
     "output_type": "execute_result"
    },
    {
     "data": {
      "image/png": "[encoded data removed]",
      "text/plain": [
       "<Figure size 432x288 with 1 Axes>"
      ]
     },
     "metadata": {
      "needs_background": "light"
     },
     "output_type": "display_data"
    }
   ],
   "source": [
    "#Let's do some plotting:\n",
    "setup_figure()\n",
    "plt.plot(X, 'r') # children\n",
    "plt.plot(Y, 'b') # adult\n",
    "plt.plot(Z, 'g') # elderly\n"
   ]
  },
  {
   "cell_type": "markdown",
   "metadata": {},
   "source": [
    "The plot above can tell a lot about the population. For example, as time goes by, the total population is declining. This is because of more deaths than new babies.\n",
    "\n",
    "What else can you tell from this plot?\n",
    "\n",
    "What if you change the birth rate or death rate, say, inceasing `beta` to 0.1?"
   ]
  },
  {
   "cell_type": "markdown",
   "metadata": {},
   "source": [
    "## Conclusions"
   ]
  },
  {
   "cell_type": "markdown",
   "metadata": {},
   "source": [
    "We have demonstrated the population model.\n",
    "\n",
    "Now you can play with the code after changing the settings or the game rules."
   ]
  },
  {
   "cell_type": "markdown",
   "metadata": {},
   "source": [
    "## Credits\n",
    "### Contributors:\n",
    "The following individuals have contributed to these teaching materials: Thomas Evans, Hannah Fry, [Huanfa Chen](huanfa.chen@ucl.ac.uk)\n",
    "\n",
    "### License\n",
    "These teaching materials are licensed under a mix of The MIT License and the Creative Commons Attribution-NonCommercial-ShareAlike 4.0 license.\n",
    "\n",
    "### Acknowledgements\n",
    "NA\n",
    "\n",
    "### Dependencies\n",
    "This notebook depends on the following libraries: matplotlib, numpy"
   ]
  }
 ],
 "metadata": {
  "kernelspec": {
   "display_name": "Python 3.10.5 ('base')",
   "language": "python",
   "name": "python3"
  },
  "language_info": {
   "codemirror_mode": {
    "name": "ipython",
    "version": 3
   },
   "file_extension": ".py",
   "mimetype": "text/x-python",
   "name": "python",
   "nbconvert_exporter": "python",
   "pygments_lexer": "ipython3",
   "version": "3.10.5"
  },
  "vscode": {
   "interpreter": {
    "hash": "d4d1e4263499bec80672ea0156c357c1ee493ec2b1c70f0acce89fc37c4a6abe"
   }
  }
 },
 "nbformat": 4,
 "nbformat_minor": 4
}
